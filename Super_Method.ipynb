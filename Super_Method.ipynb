{
 "cells": [
  {
   "cell_type": "code",
   "execution_count": 2,
   "id": "d1e983c4",
   "metadata": {},
   "outputs": [
    {
     "name": "stdout",
     "output_type": "stream",
     "text": [
      "I am Breathing...\n",
      "I am Breathing...\n",
      "I am a Human so I am Breathing...\n",
      "BMW\n",
      "I am Breathing...\n",
      "I am a Human so I am Breathing...\n",
      "I am a Human so I am Breathing...\n",
      "Fiver\n",
      "India\n"
     ]
    }
   ],
   "source": [
    "class Person:\n",
    "    country = \"India\"\n",
    "    def takeBreath(self):\n",
    "        print(\"I am Breathing...\")\n",
    "class Employee(Person):\n",
    "    company = \"BMW\"\n",
    "    \n",
    "    def getSalary(self):\n",
    "        print(f\"Salary is {self.salary}\")\n",
    "    def takeBreath(self):\n",
    "        super().takeBreath()\n",
    "        print(\"I am a Human so I am Breathing...\")\n",
    "class Programmer(Employee):\n",
    "    company = \"Fiver\"\n",
    "    def getSalary(self):\n",
    "        print(f\"You Have To Work Hard!!!!\")\n",
    "        \n",
    "    def takeBreath(self):\n",
    "        super().takeBreath()\n",
    "        print(\"I am a Human so I am Breathing...\")    \n",
    "p = Person()\n",
    "p.takeBreath()\n",
    "\n",
    "e = Employee()\n",
    "e.takeBreath()\n",
    "\n",
    "print(e.company)\n",
    "pr = Programmer()\n",
    "\n",
    "pr.takeBreath()\n",
    "print(pr.company)\n",
    "print(pr.country)\n",
    "\n",
    "        "
   ]
  },
  {
   "cell_type": "code",
   "execution_count": 11,
   "id": "bdfe9dc1",
   "metadata": {},
   "outputs": [
    {
     "name": "stdout",
     "output_type": "stream",
     "text": [
      "Initializing Programmer...\n",
      "\n"
     ]
    }
   ],
   "source": [
    "class Person:\n",
    "    country = \"India\"\n",
    "\n",
    "    def __init__(self):\n",
    "        print(\"Initializing Person...\\n\")\n",
    "\n",
    "    def takeBreath(self):\n",
    "        print(\"I am breathing...\")\n",
    "\n",
    "class Employee(Person):\n",
    "    company = \"Honda\"\n",
    "\n",
    "    def __init__(self):\n",
    "        super().__init__()\n",
    "        print(\"Initializing Employee...\\n\")\n",
    "\n",
    "    def getSalary(self):\n",
    "        print(f\"Salary is {self.salary}\")\n",
    "    \n",
    "    def takeBreath(self):\n",
    "        super().takeBreath()\n",
    "        print(\"I am an Employee so I am luckily breathing..\")\n",
    "\n",
    "class Programmer(Employee):\n",
    "    company = \"Fiverr\"\n",
    "\n",
    "    def __init__(self):\n",
    "        # super().__init__()\n",
    "        print(\"Initializing Programmer...\\n\")\n",
    "\n",
    "    def getSalary(self):\n",
    "        print(f\"No salary to programmers\")\n",
    "    \n",
    "    def takeBreath(self):\n",
    "        super().takeBreath()\n",
    "        print(\"I am a Progarmmer so I am breathing++..\")\n",
    "\n",
    "# p = Person()\n",
    "# p.takeBreath() \n",
    "\n",
    "# e = Employee()\n",
    "# e.takeBreath() \n",
    "\n",
    "pr = Programmer()\n",
    "# pr.takeBreath() \n"
   ]
  },
  {
   "cell_type": "code",
   "execution_count": null,
   "id": "f4641ac1",
   "metadata": {},
   "outputs": [],
   "source": []
  }
 ],
 "metadata": {
  "kernelspec": {
   "display_name": "Python 3 (ipykernel)",
   "language": "python",
   "name": "python3"
  },
  "language_info": {
   "codemirror_mode": {
    "name": "ipython",
    "version": 3
   },
   "file_extension": ".py",
   "mimetype": "text/x-python",
   "name": "python",
   "nbconvert_exporter": "python",
   "pygments_lexer": "ipython3",
   "version": "3.9.7"
  }
 },
 "nbformat": 4,
 "nbformat_minor": 5
}
